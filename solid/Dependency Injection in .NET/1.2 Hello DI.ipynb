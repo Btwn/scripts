{
 "cells": [
  {
   "cell_type": "markdown",
   "metadata": {
    "dotnet_interactive": {
     "language": "csharp"
    }
   },
   "source": [
    "## Dependency Injection Hello World"
   ]
  },
  {
   "cell_type": "markdown",
   "metadata": {},
   "source": [
    "- 1.2 Hello DI"
   ]
  },
  {
   "cell_type": "markdown",
   "metadata": {},
   "source": [
    "Let's take a llok at a simple console application that writes \"Hello World!\" to the screen.\n",
    "You're probably used to seeing Hello World examples that are written in a single line of code. Here, we'll take something that's extremely simple and make more complicated. Why? We'll get to shortly, but let's first see what Hello World would look like with DI"
   ]
  },
  {
   "cell_type": "code",
   "execution_count": null,
   "metadata": {
    "dotnet_interactive": {
     "language": "csharp"
    },
    "vscode": {
     "languageId": "dotnet-interactive.csharp"
    }
   },
   "outputs": [
    {
     "name": "stdout",
     "output_type": "stream",
     "text": [
      "Hello World!\r\n"
     ]
    }
   ],
   "source": [
    "Console.WriteLine(\"Hello World!\");"
   ]
  },
  {
   "cell_type": "markdown",
   "metadata": {},
   "source": [
    "Now, start with the example of DI"
   ]
  },
  {
   "cell_type": "markdown",
   "metadata": {},
   "source": [
    "The interface IMessageWriter:"
   ]
  },
  {
   "cell_type": "code",
   "execution_count": null,
   "metadata": {
    "dotnet_interactive": {
     "language": "csharp"
    },
    "vscode": {
     "languageId": "dotnet-interactive.csharp"
    }
   },
   "outputs": [],
   "source": [
    "public interface IMessageWriter\n",
    "{\n",
    "  void Write(string message);\n",
    "}"
   ]
  },
  {
   "cell_type": "markdown",
   "metadata": {},
   "source": [
    "The class ConsoleMessageWriter:"
   ]
  },
  {
   "cell_type": "code",
   "execution_count": null,
   "metadata": {
    "dotnet_interactive": {
     "language": "csharp"
    },
    "vscode": {
     "languageId": "dotnet-interactive.csharp"
    }
   },
   "outputs": [],
   "source": [
    "public class ConsoleMessageWriter : IMessageWriter\n",
    "{\n",
    "  public void Write(string message)\n",
    "  {\n",
    "    Console.WriteLine(message);\n",
    "  }\n",
    "}"
   ]
  },
  {
   "cell_type": "markdown",
   "metadata": {
    "dotnet_interactive": {
     "language": "csharp"
    }
   },
   "source": [
    "The class Salutation:"
   ]
  },
  {
   "cell_type": "code",
   "execution_count": null,
   "metadata": {
    "dotnet_interactive": {
     "language": "csharp"
    },
    "vscode": {
     "languageId": "dotnet-interactive.csharp"
    }
   },
   "outputs": [],
   "source": [
    "public class Salutation\n",
    "{\n",
    "  private readonly IMessageWriter writer;\n",
    "\n",
    "  public Salutation(IMessageWriter writer)\n",
    "  {\n",
    "    if (writer == null)\n",
    "    {\n",
    "      throw new ArgumentNullException(\"writer\");\n",
    "    }\n",
    "    this.writer = writer;\n",
    "  }\n",
    "\n",
    "  public void Exclaim()\n",
    "  {\n",
    "    this.writer.Write(\"Hello DI!\");\n",
    "  }\n",
    "}"
   ]
  },
  {
   "cell_type": "markdown",
   "metadata": {},
   "source": [
    "Now used it:"
   ]
  },
  {
   "cell_type": "code",
   "execution_count": null,
   "metadata": {
    "dotnet_interactive": {
     "language": "csharp"
    },
    "vscode": {
     "languageId": "dotnet-interactive.csharp"
    }
   },
   "outputs": [
    {
     "name": "stdout",
     "output_type": "stream",
     "text": [
      "Hello DI!\r\n"
     ]
    }
   ],
   "source": [
    "IMessageWriter writer = new ConsoleMessageWriter();\n",
    "Salutation salutation = new Salutation(writer);\n",
    "salutation.Exclaim();"
   ]
  },
  {
   "cell_type": "markdown",
   "metadata": {},
   "source": [
    "Figure 1.11 shows the relationship between the colaborators\n",
    "![Relationship](./Figure_1.11.png \"Hello DI!\")"
   ]
  },
  {
   "cell_type": "markdown",
   "metadata": {},
   "source": [
    "You may be wondering about the benefit of replacing a single line of code with two classes and an interface with a total line count of 11, and rightly so. There are several benefits to be harvested from doing this."
   ]
  },
  {
   "cell_type": "markdown",
   "metadata": {},
   "source": [
    "I don't blame you if you find in previous DI example to be over-engineered, but considerer this: by its nature, the classic Hello World example is a simple problem with well-specified and constrained requirements. In the real world, software development is never like this. Requirement change and are often fuzzy. The features you must implements also tend to be mush more complex."
   ]
  },
  {
   "cell_type": "markdown",
   "metadata": {},
   "source": [
    "- Extensibility"
   ]
  },
  {
   "cell_type": "markdown",
   "metadata": {},
   "source": [
    "You'll need to add new features and extend existing features. Loose coupling enables us to effciently recompose the application. Let's say you want to make the Hello DI example more secure by only allowing authenticated users to write ehe message."
   ]
  },
  {
   "cell_type": "code",
   "execution_count": null,
   "metadata": {
    "dotnet_interactive": {
     "language": "csharp"
    },
    "vscode": {
     "languageId": "dotnet-interactive.csharp"
    }
   },
   "outputs": [],
   "source": [
    "public class SecureMessageWriter : IMessageWriter\n",
    "{\n",
    "  private readonly IMessageWriter writer;\n",
    "\n",
    "  public SecureMessageWriter(IMessageWriter writer)\n",
    "  {\n",
    "    if (writer == null)\n",
    "    {\n",
    "      throw new ArgumentNullException(\"writer\");\n",
    "    }\n",
    "    this.writer = writer;\n",
    "  }\n",
    "\n",
    "  public void Write(string message)\n",
    "  {\n",
    "    //if (Thread.CurrentePrincipal.Identity.IsAuthenticated)\n",
    "    if (true)\n",
    "    {\n",
    "      this.writer.Write(message);\n",
    "    }\n",
    "  }\n",
    "}"
   ]
  },
  {
   "cell_type": "code",
   "execution_count": null,
   "metadata": {
    "dotnet_interactive": {
     "language": "csharp"
    },
    "vscode": {
     "languageId": "dotnet-interactive.csharp"
    }
   },
   "outputs": [
    {
     "name": "stdout",
     "output_type": "stream",
     "text": [
      "Hello DI!\r\n"
     ]
    }
   ],
   "source": [
    "IMessageWriter writer = new SecureMessageWriter(new ConsoleMessageWriter());\n",
    "Salutation salutation = new Salutation(writer);\n",
    "salutation.Exclaim();"
   ]
  },
  {
   "cell_type": "markdown",
   "metadata": {},
   "source": [
    "Loose coupling enables you to write code which is <em>open for extensibility, but closed for modification</em>"
   ]
  },
  {
   "cell_type": "markdown",
   "metadata": {},
   "source": [
    "- Testing"
   ]
  },
  {
   "cell_type": "code",
   "execution_count": null,
   "metadata": {
    "dotnet_interactive": {
     "language": "csharp"
    },
    "vscode": {
     "languageId": "dotnet-interactive.csharp"
    }
   },
   "outputs": [],
   "source": [
    "[Fact]\n",
    "public void ExclaimWillWriteCorrectMessageToMessageWriter()\n",
    "{\n",
    "  var writerMock = new Mock<IMessageWriter>();\n",
    "  var sut = new Salutation(writerMock.Object);\n",
    "  sut.Exclaim();\n",
    "  writerMock.Verify(w => w.Write(\"Hello DI!\"));\n",
    "}"
   ]
  }
 ],
 "metadata": {
  "kernelspec": {
   "display_name": ".NET (C#)",
   "language": "C#",
   "name": ".net-csharp"
  },
  "language_info": {
   "name": "C#"
  }
 },
 "nbformat": 4,
 "nbformat_minor": 2
}
